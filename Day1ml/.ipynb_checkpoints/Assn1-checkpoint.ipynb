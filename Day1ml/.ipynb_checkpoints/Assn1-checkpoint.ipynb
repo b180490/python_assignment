{
 "cells": [
  {
   "cell_type": "markdown",
   "id": "ca626ca3-6b32-43ff-92ca-d9ca46d438b0",
   "metadata": {},
   "source": [
    "#Write a NumPy program to create an array with the values 1, 7, 13, 105    and determine the size of the memory occupied by the array."
   ]
  },
  {
   "cell_type": "code",
   "execution_count": 102,
   "id": "3f650f38-c4e1-4470-80cb-4ad991b9ebf4",
   "metadata": {},
   "outputs": [
    {
     "name": "stdout",
     "output_type": "stream",
     "text": [
      "16\n"
     ]
    }
   ],
   "source": [
    "import numpy as np\n",
    "\n",
    "\n",
    "arr = np.array([1, 7, 13, 105])\n",
    "\n",
    "print(arr.size*arr.itemsize)"
   ]
  },
  {
   "cell_type": "markdown",
   "id": "0949d69d-fa27-44fd-8a69-b4a8bd81aa37",
   "metadata": {},
   "source": [
    "Write a NumPy program to create an element-wise comparison (greater, greater_equal, less and less_equal) of two given arrays."
   ]
  },
  {
   "cell_type": "code",
   "execution_count": 7,
   "id": "80bbac1a-1908-4821-bba3-caaaf6b36ed3",
   "metadata": {},
   "outputs": [
    {
     "name": "stdout",
     "output_type": "stream",
     "text": [
      "compair_greater\n",
      "[False False]\n",
      "compair_greater equal\n",
      "[ True False]\n",
      "compair_less\n",
      "[False  True]\n",
      "compair_less equal\n",
      "[ True  True]\n"
     ]
    }
   ],
   "source": [
    "import numpy as np\n",
    "\n",
    "arr1 = np.array([4,1])\n",
    "arr2 = np.array([4,8])\n",
    "\n",
    "print(\"compair_greater\")\n",
    "print(np.greater(arr1,arr2))\n",
    "\n",
    "print(\"compair_greater equal\")\n",
    "print(np.greater_equal(arr1,arr2))\n",
    "\n",
    "print(\"compair_less\")\n",
    "print(np.less(arr1,arr2))\n",
    "\n",
    "print(\"compair_less equal\")\n",
    "print(np.less_equal(arr1,arr2))\n",
    "\n"
   ]
  },
  {
   "cell_type": "markdown",
   "id": "5867765a-7951-402c-b8fc-1e81cd54ccda",
   "metadata": {},
   "source": [
    "Write a NumPy program to create an array of integers from 30 to 70."
   ]
  },
  {
   "cell_type": "code",
   "execution_count": 10,
   "id": "294958d2-ebb2-41a4-a165-bb727d3df6f5",
   "metadata": {},
   "outputs": [
    {
     "name": "stdout",
     "output_type": "stream",
     "text": [
      "[30 31 32 33 34 35 36 37 38 39 40 41 42 43 44 45 46 47 48 49 50 51 52 53\n",
      " 54 55 56 57 58 59 60 61 62 63 64 65 66 67 68 69 70]\n"
     ]
    }
   ],
   "source": [
    "arr = np.array(range(30,71))\n",
    "print(arr)"
   ]
  },
  {
   "cell_type": "markdown",
   "id": "ef0a4a9c-66a2-4dd1-9393-aa1876d6ce24",
   "metadata": {},
   "source": [
    "Write a NumPy program to create an array of all even integers from 20 to 80."
   ]
  },
  {
   "cell_type": "code",
   "execution_count": 15,
   "id": "10b355ba-604d-4d5c-9ee5-2c426e77ab9f",
   "metadata": {},
   "outputs": [
    {
     "name": "stdout",
     "output_type": "stream",
     "text": [
      "[20 22 24 26 28 30 32 34 36 38 40 42 44 46 48 50 52 54 56 58 60 62 64 66\n",
      " 68 70]\n"
     ]
    }
   ],
   "source": [
    "arr = np.array(range(20,81))\n",
    "a = arr[0:61:2]\n",
    "print(a)"
   ]
  },
  {
   "cell_type": "markdown",
   "id": "14626db3-1156-416a-8d17-fb023556dd4c",
   "metadata": {},
   "source": [
    "Write a NumPy program to create an array of all odd integers from 20 to 80."
   ]
  },
  {
   "cell_type": "code",
   "execution_count": 16,
   "id": "b1a96a65-d7b6-4ccf-ae07-0d74cb39041d",
   "metadata": {},
   "outputs": [
    {
     "name": "stdout",
     "output_type": "stream",
     "text": [
      "[21 23 25 27 29 31 33 35 37 39 41 43 45 47 49 51 53 55 57 59 61 63 65 67\n",
      " 69 71 73 75 77 79]\n"
     ]
    }
   ],
   "source": [
    "arr = np.array(range(20,81))\n",
    "a = arr[1:61:2]\n",
    "print(a)"
   ]
  },
  {
   "cell_type": "markdown",
   "id": "82ca3446-6ce3-4e2d-a557-643af02d7ed5",
   "metadata": {},
   "source": [
    "Write a NumPy program to generate an array of 15 random numbers from 10 to 40."
   ]
  },
  {
   "cell_type": "code",
   "execution_count": 75,
   "id": "042a610f-e119-44f4-97f4-a4c20eef8726",
   "metadata": {},
   "outputs": [
    {
     "name": "stdout",
     "output_type": "stream",
     "text": [
      "[28 25 33 37 31 20 21 36 32 29 26 21 24 20 17]\n"
     ]
    }
   ],
   "source": [
    "arr = np.random.randint(10,41,15)\n",
    "print(arr)"
   ]
  },
  {
   "cell_type": "markdown",
   "id": "aa10cb45-4dda-4c2f-b365-361271b45db8",
   "metadata": {},
   "source": [
    "7)Write a NumPy program to generate an array of 10 random numbers from 30 to 50."
   ]
  },
  {
   "cell_type": "code",
   "execution_count": 74,
   "id": "ef6f0243-e010-48c8-8d28-82e94cbd2845",
   "metadata": {},
   "outputs": [
    {
     "name": "stdout",
     "output_type": "stream",
     "text": [
      "[32 50 47 42 30 33 31 44 37 32]\n"
     ]
    }
   ],
   "source": [
    "arr = np.random.randint(30,51,10)\n",
    "print(arr)"
   ]
  },
  {
   "cell_type": "markdown",
   "id": "799eac75-8a61-4f77-8a44-ba76f4504ea8",
   "metadata": {},
   "source": [
    "8. Create any two arrays & perform various mathematical operations.\n",
    "    i.e. Addition, Substraction, Multiplication, Divide."
   ]
  },
  {
   "cell_type": "code",
   "execution_count": 34,
   "id": "41fd7d8d-dccc-4372-9aec-f1adc48f8f3b",
   "metadata": {},
   "outputs": [
    {
     "name": "stdout",
     "output_type": "stream",
     "text": [
      "Addition:[ 8  9 18 56]\n",
      "Substraction:[  0  -7  -2 -44]\n",
      "Multiplication:[ 16   8  80 300]\n",
      "Divide:[1.    0.125 0.8   0.12 ]\n"
     ]
    }
   ],
   "source": [
    "arr1 = np.array([4,1,8,6])\n",
    "arr2 = np.array([4,8,10,50])\n",
    "\n",
    "print(f\"Addition:{arr1+arr2}\")\n",
    "print(f\"Substraction:{arr1-arr2}\")\n",
    "print(f\"Multiplication:{arr1*arr2}\")\n",
    "print(f\"Divide:{arr1/arr2}\")"
   ]
  },
  {
   "cell_type": "markdown",
   "id": "c190c902-eb4b-4e2d-87cd-a4526241bca2",
   "metadata": {},
   "source": [
    "9. Write a NumPy program to create a 3x4 matrix filled with values from 10 to 21."
   ]
  },
  {
   "cell_type": "code",
   "execution_count": 35,
   "id": "91960c5e-ea9c-41d1-9a62-c6d8c1cdb7ee",
   "metadata": {},
   "outputs": [
    {
     "name": "stdout",
     "output_type": "stream",
     "text": [
      "3x4 matrix filled with values from 10 to 21:\n",
      "[[10 11 12 13]\n",
      " [14 15 16 17]\n",
      " [18 19 20 21]]\n"
     ]
    }
   ],
   "source": [
    "arr = np.array(range(10,22))\n",
    "matrix = arr.reshape(3,4)\n",
    "print(\"3x4 matrix filled with values from 10 to 21:\")\n",
    "print(matrix)\n"
   ]
  },
  {
   "cell_type": "markdown",
   "id": "883bf7e5-60ed-44ea-ae36-803d6d190a14",
   "metadata": {},
   "source": [
    "10. Write a NumPy program to create a 3x3 identity matrix, i.e. the diagonal elements are 1, the rest are 0."
   ]
  },
  {
   "cell_type": "code",
   "execution_count": 40,
   "id": "65e070b0-6c92-4dad-90dd-1a11c9602555",
   "metadata": {},
   "outputs": [
    {
     "name": "stdout",
     "output_type": "stream",
     "text": [
      "3x3 identity matrix:\n",
      "[[1. 0. 0.]\n",
      " [0. 1. 0.]\n",
      " [0. 0. 1.]]\n"
     ]
    }
   ],
   "source": [
    "identity_matrix = np.identity(3)\n",
    "print(\"3x3 identity matrix:\")\n",
    "print(identity_matrix)"
   ]
  },
  {
   "cell_type": "markdown",
   "id": "95c6e3d8-fea0-4c2d-912a-0230b195d996",
   "metadata": {},
   "source": [
    "11. Write a NumPy program to find the number of rows and columns in a given matrix. "
   ]
  },
  {
   "cell_type": "code",
   "execution_count": 44,
   "id": "67adc969-c7c8-4734-8d49-f84c83eb7607",
   "metadata": {},
   "outputs": [
    {
     "name": "stdout",
     "output_type": "stream",
     "text": [
      "Number of rows: 3\n",
      "Number of columns: 3\n"
     ]
    }
   ],
   "source": [
    "matrix = np.array([[1, 2, 3], [4, 5, 6], [7, 8, 9]])\n",
    "\n",
    "row,column = matrix.shape\n",
    "\n",
    "print(\"Number of rows:\",row)\n",
    "print(\"Number of columns:\",column)\n"
   ]
  },
  {
   "cell_type": "markdown",
   "id": "f81deaf1-6ad7-4e25-91d3-e71d512e1664",
   "metadata": {},
   "source": [
    "12. Write a NumPy program to create a 5x5 zero matrix with elements on the main diagonal equal to 1, 2, 3, 4, 5."
   ]
  },
  {
   "cell_type": "code",
   "execution_count": 53,
   "id": "436746f7-19e5-4dc8-82e5-bc4ba2d43f3a",
   "metadata": {},
   "outputs": [
    {
     "name": "stdout",
     "output_type": "stream",
     "text": [
      "3x3 identity matrix:\n",
      "[\n",
      "[1. 0. 0. 0. 0.]\n",
      "[0. 2. 0. 0. 0.]\n",
      "[0. 0. 3. 0. 0.]\n",
      "[0. 0. 0. 4. 0.]\n",
      "[0. 0. 0. 0. 5.]\n",
      "]\n"
     ]
    }
   ],
   "source": [
    "identity_matrix = np.identity(5)\n",
    "print(\"5x5 identity matrix:\")\n",
    "i=1\n",
    "\n",
    "for row in identity_matrix:\n",
    "    print(i*row)\n",
    "    i+=1\n"
   ]
  },
  {
   "cell_type": "markdown",
   "id": "04e39640-f8f3-4766-86f5-f813329aea07",
   "metadata": {},
   "source": [
    "Write a NumPy program to create a 3x3x3 array filled with arbitrary values.\n"
   ]
  },
  {
   "cell_type": "code",
   "execution_count": 62,
   "id": "1df83a0c-0ea2-4e55-b4b9-93078f335c5f",
   "metadata": {},
   "outputs": [
    {
     "name": "stdout",
     "output_type": "stream",
     "text": [
      "3x3x3 array filled with arbitrary values:\n",
      "[[[0.49094279 0.84295302 0.43659591]\n",
      "  [0.01306375 0.15109291 0.75725261]\n",
      "  [0.31446918 0.81412698 0.77206491]]\n",
      "\n",
      " [[0.71954811 0.56926741 0.30464673]\n",
      "  [0.50670275 0.87049602 0.36191992]\n",
      "  [0.97877861 0.70180536 0.09705814]]\n",
      "\n",
      " [[0.95502337 0.8215525  0.69859653]\n",
      "  [0.57657614 0.01306604 0.01806869]\n",
      "  [0.7100002  0.61238128 0.35274617]]]\n"
     ]
    }
   ],
   "source": [
    "identity_matrix = np.random.random((3,3,3))\n",
    "print(\"3x3x3 array filled with arbitrary values:\")\n",
    "print(identity_matrix)"
   ]
  },
  {
   "cell_type": "markdown",
   "id": "02ff3e4e-64cd-43a7-a873-b187d3239c33",
   "metadata": {},
   "source": [
    "14. Write a NumPy program to create a 2x3x4 array filled with arbitrary values.\n"
   ]
  },
  {
   "cell_type": "code",
   "execution_count": 86,
   "id": "2e119ea4-0f2d-453c-aa13-179f12280a19",
   "metadata": {},
   "outputs": [
    {
     "name": "stdout",
     "output_type": "stream",
     "text": [
      "2x3x4 array filled with arbitrary values:\n",
      "[[[0.0175593  0.25800092 0.30618271 0.39140911]\n",
      "  [0.17334156 0.45407267 0.68283284 0.11591816]\n",
      "  [0.00894736 0.31204289 0.60883458 0.97505215]]\n",
      "\n",
      " [[0.20706455 0.82786874 0.27766494 0.93330663]\n",
      "  [0.62374593 0.73624163 0.10808115 0.51268814]\n",
      "  [0.15182911 0.65730796 0.33118258 0.2911245 ]]]\n"
     ]
    }
   ],
   "source": [
    "identity_matrix = np.random.random((2,3,4))\n",
    "print(\"2x3x4 array filled with arbitrary values:\")\n",
    "print(identity_matrix)"
   ]
  },
  {
   "cell_type": "markdown",
   "id": "a3d4e19e-0a5e-4082-9822-91e0087de096",
   "metadata": {},
   "source": [
    "15. Write a NumPy program to convert a list of numeric values into a one-dimensional NumPy array.\n"
   ]
  },
  {
   "cell_type": "code",
   "execution_count": 64,
   "id": "9d28b753-68df-464e-ad5d-8911215f0e89",
   "metadata": {},
   "outputs": [
    {
     "name": "stdout",
     "output_type": "stream",
     "text": [
      "[1 5 7 9 2 1]\n"
     ]
    }
   ],
   "source": [
    "list1 = [1,5,7,9,2,1]\n",
    "\n",
    "arr = np.array(list1)\n",
    "print(arr)"
   ]
  },
  {
   "cell_type": "markdown",
   "id": "5c8334ca-0932-420b-95a6-83858e030b66",
   "metadata": {},
   "source": [
    "16. Write a NumPy program to create a 3x3 matrix with values ranging from 2 to 10.\n"
   ]
  },
  {
   "cell_type": "code",
   "execution_count": 84,
   "id": "6b38d67e-d368-4ca9-bc73-7c7d6b1af5ea",
   "metadata": {},
   "outputs": [
    {
     "name": "stdout",
     "output_type": "stream",
     "text": [
      "[[0 1 1]\n",
      " [1 2 1]\n",
      " [7 1 0]]\n"
     ]
    }
   ],
   "source": [
    "arr = np.random.randint((range(2,11)))\n",
    "mat = arr.reshape(3,3)\n",
    "print(mat)"
   ]
  },
  {
   "cell_type": "markdown",
   "id": "fd80f849-7ff4-46b7-be71-0a816bc32847",
   "metadata": {},
   "source": [
    "17. Write a NumPy program to create an array with values ranging from 12 to 38."
   ]
  },
  {
   "cell_type": "code",
   "execution_count": 85,
   "id": "9bee544a-64fd-4a9e-93e9-8db57498e7be",
   "metadata": {},
   "outputs": [
    {
     "name": "stdout",
     "output_type": "stream",
     "text": [
      "[12 13 14 15 16 17 18 19 20 21 22 23 24 25 26 27 28 29 30 31 32 33 34 35\n",
      " 36 37 38]\n"
     ]
    }
   ],
   "source": [
    "arr = np.array(range(12,39))\n",
    "print(arr)"
   ]
  },
  {
   "cell_type": "markdown",
   "id": "1d407100-a9a5-4296-b567-f3a9867adcde",
   "metadata": {},
   "source": [
    "18. Write a NumPy program to reverse an array (the first element becomes the last)."
   ]
  },
  {
   "cell_type": "code",
   "execution_count": 94,
   "id": "03538c06-fe0c-46f9-8dca-f34b4751e2d8",
   "metadata": {},
   "outputs": [
    {
     "name": "stdout",
     "output_type": "stream",
     "text": [
      "[ 1  2  3  4  5  6  7  8  9 10]\n",
      "[10  9  8  7  6  5  4  3  2  1]\n"
     ]
    }
   ],
   "source": [
    "arr = np.array(range(1,11))\n",
    "print(arr)\n",
    "rev = arr[::-1]\n",
    "print(rev)"
   ]
  },
  {
   "cell_type": "markdown",
   "id": "0760c977-eb77-41e3-a7e9-1ec8b0047217",
   "metadata": {},
   "source": [
    "19. Write a NumPy program to get the element-wise remainder of an array of division.\n"
   ]
  },
  {
   "cell_type": "code",
   "execution_count": 95,
   "id": "85253ace-d3d7-4312-b77a-cc5a8d6ab189",
   "metadata": {},
   "outputs": [
    {
     "name": "stdout",
     "output_type": "stream",
     "text": [
      "[0 0 1 2 0 4 3 2 1 0]\n"
     ]
    }
   ],
   "source": [
    "arr = np.array(range(11,21))\n",
    "arr1 = np.array(range(1,11))\n",
    "\n",
    "rem = np.remainder(arr,arr1)\n",
    "print(rem)"
   ]
  },
  {
   "cell_type": "markdown",
   "id": "b3713d67-69af-4a90-9200-5c3d5c38d4e4",
   "metadata": {},
   "source": [
    "20. Write a NumPy program to get the element-wise remainder of an array of numbers from 20 to 50 which are divisible by 3."
   ]
  },
  {
   "cell_type": "code",
   "execution_count": 97,
   "id": "668e44b1-1f1f-40bf-b130-992da3a8707c",
   "metadata": {},
   "outputs": [
    {
     "name": "stdout",
     "output_type": "stream",
     "text": [
      "20 to 50 which are divisible by 3 [2 0 1 2 0 1 2 0 1 2 0 1 2 0 1 2 0 1 2 0 1 2 0 1 2 0 1 2 0 1 2]\n"
     ]
    }
   ],
   "source": [
    "arr = np.array(range(20,51))\n",
    "\n",
    "rem = np.remainder(arr,3)\n",
    "print(\"20 to 50 which are divisible by 3:\",rem)"
   ]
  },
  {
   "cell_type": "markdown",
   "id": "9a992c67-7e53-4e8a-8f41-7baef26d0088",
   "metadata": {},
   "source": [
    "21. Write a Pandas program to create a dataframe from a dictionary and display it.\n"
   ]
  },
  {
   "cell_type": "code",
   "execution_count": 118,
   "id": "af12951f-7c95-4be5-a824-6f86938b8800",
   "metadata": {},
   "outputs": [
    {
     "name": "stdout",
     "output_type": "stream",
     "text": [
      "    name    place  age\n",
      "0    ram  ayodhya   30\n",
      "1  shyam   bangal   21\n"
     ]
    }
   ],
   "source": [
    "import pandas as pd\n",
    "\n",
    "dict = { \"name\": ['ram','shyam'], \"place\": ['ayodhya','bangal'], \"age\": [30,21]}\n",
    "\n",
    "df = pd.DataFrame(dict)\n",
    "print(df)"
   ]
  },
  {
   "cell_type": "markdown",
   "id": "950333be-2d7b-4cf5-a5e5-99df323f1b4e",
   "metadata": {},
   "source": [
    "22. i) Create a list of empids and names (10 employees).\n",
    "   ii) Convert list into Series.\n",
    "   iii) Print type of Series.\n",
    "   iv) Convert Series into DataFrame.\n",
    "   v) a) Display all records.\n",
    "      b) Display first five records.\n",
    "      c) Display last five records.\n",
    "      d) Display first two and last two records.\n",
    "      e) Display name of 5th employee.\n",
    "      f) Display record of 4th employee.\n",
    "   vi) Save the record in csv file (MyRecord.csv)"
   ]
  },
  {
   "cell_type": "code",
   "execution_count": 140,
   "id": "9a7e6ccd-18d3-4f1d-ac8b-a39f91c0a877",
   "metadata": {},
   "outputs": [
    {
     "name": "stdout",
     "output_type": "stream",
     "text": [
      "list into Series:\n",
      " 1           ram\n",
      "2        shayam\n",
      "3       krishna\n",
      "4         radha\n",
      "5         mohan\n",
      "6        keshav\n",
      "7        raghav\n",
      "8     raghuveer\n",
      "9       nandlal\n",
      "10       kishor\n",
      "dtype: object\n",
      "\n",
      "type of Series: <class 'pandas.core.series.Series'>\n",
      "\n",
      "Series into DataFrame:\n",
      "             0\n",
      "1         ram\n",
      "2      shayam\n",
      "3     krishna\n",
      "4       radha\n",
      "5       mohan\n",
      "6      keshav\n",
      "7      raghav\n",
      "8   raghuveer\n",
      "9     nandlal\n",
      "10     kishor\n",
      "\n",
      "Display all records:\n",
      "         Names\n",
      "1         ram\n",
      "2      shayam\n",
      "3     krishna\n",
      "4       radha\n",
      "5       mohan\n",
      "6      keshav\n",
      "7      raghav\n",
      "8   raghuveer\n",
      "9     nandlal\n",
      "10     kishor\n",
      "\n",
      "Display first five records:\n",
      "      Names\n",
      "1      ram\n",
      "2   shayam\n",
      "3  krishna\n",
      "4    radha\n",
      "5    mohan\n",
      "\n",
      "Display last five records:\n",
      "         Names\n",
      "6      keshav\n",
      "7      raghav\n",
      "8   raghuveer\n",
      "9     nandlal\n",
      "10     kishor\n",
      "\n",
      "Display first two and last two records:\n",
      "     Names\n",
      "1     ram\n",
      "2  shayam       Names\n",
      "9   nandlal\n",
      "10   kishor\n",
      "\n",
      "Display name of 5th employee:\n",
      "    Names\n",
      "5  mohan\n",
      "\n",
      "Display name of 4th employee:\n",
      "    Names\n",
      "4  radha\n"
     ]
    }
   ],
   "source": [
    "empids = [1, 2, 3, 4, 5, 6, 7, 8, 9, 10]\n",
    "names = [\"ram\",\"shayam\",'krishna','radha','mohan','keshav','raghav','raghuveer','nandlal','kishor']\n",
    "\n",
    "series = pd.Series(names, index= empids)\n",
    "print(\"list into Series:\\n\",series)\n",
    "print(\"\\ntype of Series:\",type(series))\n",
    "df = pd.DataFrame(series)\n",
    "print(\"\\nSeries into DataFrame:\\n\",df)\n",
    "df.columns = [\"Names\"]\n",
    "print(\"\\nDisplay all records:\\n\",df)\n",
    "print(\"\\nDisplay first five records:\\n\",df.head(5))\n",
    "print(\"\\nDisplay last five records:\\n\",df.tail(5))\n",
    "print(\"\\nDisplay first two and last two records:\\n\",df.head(2),df.tail(2))\n",
    "print(\"\\nDisplay name of 5th employee:\\n\",df.iloc[4:5])\n",
    "print(\"\\nDisplay name of 4th employee:\\n\",df.iloc[3:4])\n",
    "\n",
    "df.to_csv(\"MyRecord.csv\")\n",
    "\n"
   ]
  },
  {
   "cell_type": "markdown",
   "id": "12ddfc09-ab98-4775-9f24-6bf1ee01d4f8",
   "metadata": {},
   "source": [
    "23. i) Read the MyRecord.csv file.\n",
    "    ii) Create a new column Salary."
   ]
  },
  {
   "cell_type": "code",
   "execution_count": 141,
   "id": "df7c04dd-afaf-4ddb-aa28-f50b62528019",
   "metadata": {},
   "outputs": [
    {
     "name": "stdout",
     "output_type": "stream",
     "text": [
      "        Names Salary\n",
      "1         ram    90k\n",
      "2      shayam    80k\n",
      "3     krishna    70k\n",
      "4       radha    92k\n",
      "5       mohan    10k\n",
      "6      keshav    50k\n",
      "7      raghav    93k\n",
      "8   raghuveer    90k\n",
      "9     nandlal    95k\n",
      "10     kishor    50k\n"
     ]
    }
   ],
   "source": [
    "read = pd.read_csv(\"MyRecord.csv\")\n",
    "Salary = [\"90k\",\"80k\",\"70k\",\"92k\",\"10k\",\"50k\",\"93k\",\"90k\",\"95k\",\"50k\"]\n",
    "df[\"Salary\"] = Salary\n",
    "print(df)"
   ]
  },
  {
   "cell_type": "markdown",
   "id": "d6040441-17db-4c6a-9faa-6606ace59a10",
   "metadata": {},
   "source": [
    "24. Refer the dataset \"Advertising.csv\" and perform following tasks.\n",
    "i) Read the dataset \"Advertising.csv\" in data frame.\n",
    "\n",
    "ii) Print first five records of dataset.\n",
    "\n",
    "iii) print last five records from dataset.\n",
    "\n",
    "iv) display the column names of the dataset.\n",
    "\n",
    "v) display last three records from dataset.\n",
    "\n",
    "vi) display the information about the dataset and analyse the data.\n",
    "\n",
    "vii) display data types of each columns.\n",
    " \n",
    "viii) check for null values in the dataset and display the sum of null values inside the column.\n",
    "\n",
    "ix) drop a column 'radio' from a dataset and display first ten records.\n",
    "\n",
    "x) increase the sales by 10% and add a new column \"updated_sales\" in dataframe.\n",
    "\n",
    "xi) display shape of data."
   ]
  },
  {
   "cell_type": "code",
   "execution_count": 166,
   "id": "a74d546c-68d2-492d-b420-509867237830",
   "metadata": {},
   "outputs": [
    {
     "name": "stdout",
     "output_type": "stream",
     "text": [
      "\n",
      "first five records of dataset:\n",
      "       TV  radio  newspaper  sales\n",
      "0  230.1   37.8       69.2   22.1\n",
      "1   44.5   39.3       45.1   10.4\n",
      "2   17.2   45.9       69.3    9.3\n",
      "3  151.5   41.3       58.5   18.5\n",
      "4  180.8   10.8       58.4   12.9\n",
      "\n",
      "last five records of dataset:\n",
      "         TV  radio  newspaper  sales\n",
      "195   38.2    3.7       13.8    7.6\n",
      "196   94.2    4.9        8.1    9.7\n",
      "197  177.0    9.3        6.4   12.8\n",
      "198  283.6   42.0       66.2   25.5\n",
      "199  232.1    8.6        8.7   13.4\n",
      "\n",
      "the column names of the dataset:\n",
      " Index(['TV', 'radio', 'newspaper', 'sales'], dtype='object')\n",
      "\n",
      "last 3 records of dataset:\n",
      "         TV  radio  newspaper  sales\n",
      "197  177.0    9.3        6.4   12.8\n",
      "198  283.6   42.0       66.2   25.5\n",
      "199  232.1    8.6        8.7   13.4\n",
      "\n",
      "information about the dataset and analyse the data:\n",
      " <bound method DataFrame.info of         TV  radio  newspaper  sales\n",
      "0    230.1   37.8       69.2   22.1\n",
      "1     44.5   39.3       45.1   10.4\n",
      "2     17.2   45.9       69.3    9.3\n",
      "3    151.5   41.3       58.5   18.5\n",
      "4    180.8   10.8       58.4   12.9\n",
      "..     ...    ...        ...    ...\n",
      "195   38.2    3.7       13.8    7.6\n",
      "196   94.2    4.9        8.1    9.7\n",
      "197  177.0    9.3        6.4   12.8\n",
      "198  283.6   42.0       66.2   25.5\n",
      "199  232.1    8.6        8.7   13.4\n",
      "\n",
      "[200 rows x 4 columns]> <bound method NDFrame.describe of         TV  radio  newspaper  sales\n",
      "0    230.1   37.8       69.2   22.1\n",
      "1     44.5   39.3       45.1   10.4\n",
      "2     17.2   45.9       69.3    9.3\n",
      "3    151.5   41.3       58.5   18.5\n",
      "4    180.8   10.8       58.4   12.9\n",
      "..     ...    ...        ...    ...\n",
      "195   38.2    3.7       13.8    7.6\n",
      "196   94.2    4.9        8.1    9.7\n",
      "197  177.0    9.3        6.4   12.8\n",
      "198  283.6   42.0       66.2   25.5\n",
      "199  232.1    8.6        8.7   13.4\n",
      "\n",
      "[200 rows x 4 columns]>\n",
      "\n",
      "data types of each columns:\n",
      " TV           float64\n",
      "radio        float64\n",
      "newspaper    float64\n",
      "sales        float64\n",
      "dtype: object\n",
      "\n",
      "null values in the dataset and display the sum of null values inside the column:\n",
      "         TV  radio  newspaper  sales\n",
      "0    False  False      False  False\n",
      "1    False  False      False  False\n",
      "2    False  False      False  False\n",
      "3    False  False      False  False\n",
      "4    False  False      False  False\n",
      "..     ...    ...        ...    ...\n",
      "195  False  False      False  False\n",
      "196  False  False      False  False\n",
      "197  False  False      False  False\n",
      "198  False  False      False  False\n",
      "199  False  False      False  False\n",
      "\n",
      "[200 rows x 4 columns] \n",
      " TV           0\n",
      "radio        0\n",
      "newspaper    0\n",
      "sales        0\n",
      "dtype: int64\n",
      "\n",
      "drop a column 'radio' from a dataset and display first ten records:\n",
      "       TV  newspaper  sales\n",
      "0  230.1       69.2   22.1\n",
      "1   44.5       45.1   10.4\n",
      "2   17.2       69.3    9.3\n",
      "3  151.5       58.5   18.5\n",
      "4  180.8       58.4   12.9\n",
      "5    8.7       75.0    7.2\n",
      "6   57.5       23.5   11.8\n",
      "7  120.2       11.6   13.2\n",
      "8    8.6        1.0    4.8\n",
      "9  199.8       21.2   10.6\n",
      "\n",
      "increase the sales by 10% and add a new column updated_sales in dataframe:\n",
      "         TV  radio  newspaper  sales  updated_sales\n",
      "0    230.1   37.8       69.2   22.1          24.31\n",
      "1     44.5   39.3       45.1   10.4          11.44\n",
      "2     17.2   45.9       69.3    9.3          10.23\n",
      "3    151.5   41.3       58.5   18.5          20.35\n",
      "4    180.8   10.8       58.4   12.9          14.19\n",
      "..     ...    ...        ...    ...            ...\n",
      "195   38.2    3.7       13.8    7.6           8.36\n",
      "196   94.2    4.9        8.1    9.7          10.67\n",
      "197  177.0    9.3        6.4   12.8          14.08\n",
      "198  283.6   42.0       66.2   25.5          28.05\n",
      "199  232.1    8.6        8.7   13.4          14.74\n",
      "\n",
      "[200 rows x 5 columns]\n",
      "\n",
      "shape of data:\n",
      " (200, 5)\n"
     ]
    }
   ],
   "source": [
    "read = pd.read_csv(\"Advertising.csv\")\n",
    "df = pd.DataFrame(read)\n",
    "print(\"\\nfirst five records of dataset:\\n\",df.head(5))\n",
    "print(\"\\nlast five records of dataset:\\n\",df.tail(5))\n",
    "print(\"\\nthe column names of the dataset:\\n\",df.columns)\n",
    "print(\"\\nlast 3 records of dataset:\\n\",df.tail(3))\n",
    "print(\"\\ninformation about the dataset and analyse the data:\\n\",df.info,df.describe)\n",
    "print(\"\\ndata types of each columns:\\n\",df.dtypes)\n",
    "print(\"\\nnull values in the dataset and display the sum of null values inside the column:\\n\",df.isnull(),\"\\n\",df.isnull().sum())\n",
    "d = df.drop(\"radio\", axis=1)\n",
    "print(\"\\ndrop a column 'radio' from a dataset and display first ten records:\\n\",d.head(10))\n",
    "update = df.sales*1.1\n",
    "df[\"updated_sales\"]= update\n",
    "print(\"\\nincrease the sales by 10% and add a new column updated_sales in dataframe:\\n\",df)\n",
    "print(\"\\nshape of data:\\n\",df.shape)\n"
   ]
  },
  {
   "cell_type": "markdown",
   "id": "e4c7acb5-3928-4467-a5a9-c53e7ba965d1",
   "metadata": {},
   "source": [
    "25. Refer the dataset \"Salaries.csv\" and perform following tasks.\n",
    "i) Read the dataset in dataframe.\n",
    "\n",
    "ii) display first five records.\n",
    "\n",
    "iii) display first ten records.\n",
    "\n",
    "iv) display last five records.\n",
    "\n",
    "v) display last ten records.\n",
    "\n",
    "vi) display the columns inside the dataset.\n",
    "\n",
    "vii) display shape of data.\n",
    "\n",
    "viii) describe the dataset.\n",
    "\n",
    "ix) display the information about the dataset and analyse the data.\n",
    "\n",
    "x) display types of each columns.\n",
    "\n",
    "xi) Find out maximum,minimum,mean,median,standard deviation value of each column.\n",
    "\n",
    "xii) check for null values in the dataset and display the sum of null values inside the column.\n",
    "\n",
    "xiii) drop all null values.\n",
    "\n",
    "xiv) a) display records whose salary is greater than 50000.\n",
    "     b) display records whose salary is less than 20000.\n",
    "     c) display records whose salary is between 20000 to 50000.\n",
    "     d) display records whose salary is greater than 100000.\n",
    "     e) display records whose salary is less than 100000.\n",
    "\n",
    "xv)  a) display records whose discipline is A.\n",
    "     b) display records whose discipline is B.\n",
    "     c) display records whose service is greater than 10.\n",
    "     d) display records whose service is less than 5.\n",
    "\n",
    "xvi) a) display records of phd and salary.\n",
    "     b) display records of rank, sex and salary.\n",
    "     c) display records without salary.\n",
    "     d) display first 50 records with rank,service and salary.\n",
    "     e) display records whose rank is Prof.\n",
    "     f) display records whose rank is AssocProf. \n"
   ]
  },
  {
   "cell_type": "code",
   "execution_count": 8,
   "id": "d7a9c626-4400-4aa1-bb04-3d4dbc2fdeaa",
   "metadata": {},
   "outputs": [
    {
     "name": "stdout",
     "output_type": "stream",
     "text": [
      "\n",
      "first five records of dataset:\n",
      "    rank discipline  phd  service   sex  salary\n",
      "0  Prof          B   56       49  Male  186960\n",
      "1  Prof          A   12        6  Male   93000\n",
      "2  Prof          A   23       20  Male  110515\n",
      "3  Prof          A   40       31  Male  131205\n",
      "4  Prof          B   20       18  Male  104800\n",
      "\n",
      "first ten records of dataset:\n",
      "         rank discipline  phd  service   sex  salary\n",
      "0       Prof          B   56       49  Male  186960\n",
      "1       Prof          A   12        6  Male   93000\n",
      "2       Prof          A   23       20  Male  110515\n",
      "3       Prof          A   40       31  Male  131205\n",
      "4       Prof          B   20       18  Male  104800\n",
      "5       Prof          A   20       20  Male  122400\n",
      "6  AssocProf          A   20       17  Male   81285\n",
      "7       Prof          A   18       18  Male  126300\n",
      "8       Prof          A   29       19  Male   94350\n",
      "9       Prof          A   51       51  Male   57800\n",
      "\n",
      "last five records of dataset:\n",
      "          rank discipline  phd  service     sex  salary\n",
      "73       Prof          B   18       10  Female  105450\n",
      "74  AssocProf          B   19        6  Female  104542\n",
      "75       Prof          B   17       17  Female  124312\n",
      "76       Prof          A   28       14  Female  109954\n",
      "77       Prof          A   23       15  Female  109646\n",
      "\n",
      "last ten records of dataset:\n",
      "          rank discipline  phd  service     sex  salary\n",
      "68   AsstProf          A    4        2  Female   77500\n",
      "69       Prof          A   28        7  Female  116450\n",
      "70   AsstProf          A    8        3  Female   78500\n",
      "71  AssocProf          B   12        9  Female   71065\n",
      "72       Prof          B   24       15  Female  161101\n",
      "73       Prof          B   18       10  Female  105450\n",
      "74  AssocProf          B   19        6  Female  104542\n",
      "75       Prof          B   17       17  Female  124312\n",
      "76       Prof          A   28       14  Female  109954\n",
      "77       Prof          A   23       15  Female  109646\n",
      "\n",
      "display the columns inside the dataset.:\n",
      " Index(['rank', 'discipline', 'phd', 'service', 'sex', 'salary'], dtype='object')\n",
      "\n",
      "shape of data.:\n",
      " (78, 6)\n",
      "\n",
      "describe the dataset.:\n",
      " <bound method NDFrame.describe of          rank discipline  phd  service     sex  salary\n",
      "0        Prof          B   56       49    Male  186960\n",
      "1        Prof          A   12        6    Male   93000\n",
      "2        Prof          A   23       20    Male  110515\n",
      "3        Prof          A   40       31    Male  131205\n",
      "4        Prof          B   20       18    Male  104800\n",
      "..        ...        ...  ...      ...     ...     ...\n",
      "73       Prof          B   18       10  Female  105450\n",
      "74  AssocProf          B   19        6  Female  104542\n",
      "75       Prof          B   17       17  Female  124312\n",
      "76       Prof          A   28       14  Female  109954\n",
      "77       Prof          A   23       15  Female  109646\n",
      "\n",
      "[78 rows x 6 columns]>\n",
      "<class 'pandas.core.frame.DataFrame'>\n",
      "RangeIndex: 78 entries, 0 to 77\n",
      "Data columns (total 6 columns):\n",
      " #   Column      Non-Null Count  Dtype \n",
      "---  ------      --------------  ----- \n",
      " 0   rank        78 non-null     object\n",
      " 1   discipline  78 non-null     object\n",
      " 2   phd         78 non-null     int64 \n",
      " 3   service     78 non-null     int64 \n",
      " 4   sex         78 non-null     object\n",
      " 5   salary      78 non-null     int64 \n",
      "dtypes: int64(3), object(3)\n",
      "memory usage: 3.8+ KB\n",
      "\n",
      "the information about the dataset and analyse the data.:\n",
      " None\n",
      "\n",
      "types of each columns.:\n",
      " rank          object\n",
      "discipline    object\n",
      "phd            int64\n",
      "service        int64\n",
      "sex           object\n",
      "salary         int64\n",
      "dtype: object\n",
      "\n",
      "maximum,minimum,mean,median,standard deviation value of each column:\n",
      "              phd    service         salary\n",
      "count  78.000000  78.000000      78.000000\n",
      "mean   19.705128  15.051282  108023.782051\n",
      "std    12.498425  12.139768   28293.661022\n",
      "min     1.000000   0.000000   57800.000000\n",
      "25%    10.250000   5.250000   88612.500000\n",
      "50%    18.500000  14.500000  104671.000000\n",
      "75%    27.750000  20.750000  126774.750000\n",
      "max    56.000000  51.000000  186960.000000\n",
      "\n",
      "null values in the dataset:\n",
      " <bound method DataFrame.isnull of          rank discipline  phd  service     sex  salary\n",
      "0        Prof          B   56       49    Male  186960\n",
      "1        Prof          A   12        6    Male   93000\n",
      "2        Prof          A   23       20    Male  110515\n",
      "3        Prof          A   40       31    Male  131205\n",
      "4        Prof          B   20       18    Male  104800\n",
      "..        ...        ...  ...      ...     ...     ...\n",
      "73       Prof          B   18       10  Female  105450\n",
      "74  AssocProf          B   19        6  Female  104542\n",
      "75       Prof          B   17       17  Female  124312\n",
      "76       Prof          A   28       14  Female  109954\n",
      "77       Prof          A   23       15  Female  109646\n",
      "\n",
      "[78 rows x 6 columns]>\n",
      "\n",
      "display the sum of null values inside the column:\n",
      " rank          0\n",
      "discipline    0\n",
      "phd           0\n",
      "service       0\n",
      "sex           0\n",
      "salary        0\n",
      "dtype: int64\n",
      "\n",
      "salary is greater than 50000:\n",
      "          rank discipline  phd  service     sex  salary\n",
      "0        Prof          B   56       49    Male  186960\n",
      "1        Prof          A   12        6    Male   93000\n",
      "2        Prof          A   23       20    Male  110515\n",
      "3        Prof          A   40       31    Male  131205\n",
      "4        Prof          B   20       18    Male  104800\n",
      "..        ...        ...  ...      ...     ...     ...\n",
      "73       Prof          B   18       10  Female  105450\n",
      "74  AssocProf          B   19        6  Female  104542\n",
      "75       Prof          B   17       17  Female  124312\n",
      "76       Prof          A   28       14  Female  109954\n",
      "77       Prof          A   23       15  Female  109646\n",
      "\n",
      "[78 rows x 6 columns]\n",
      "\n",
      "records whose salary is less than 20000:\n",
      " Empty DataFrame\n",
      "Columns: [rank, discipline, phd, service, sex, salary]\n",
      "Index: []\n",
      "\n",
      "records whose salary is between 20000 to 50000:\n",
      " Empty DataFrame\n",
      "Columns: [rank, discipline, phd, service, sex, salary]\n",
      "Index: []\n",
      "\n",
      "records whose salary is greater than 100000:\n",
      "          rank discipline  phd  service     sex  salary\n",
      "0        Prof          B   56       49    Male  186960\n",
      "2        Prof          A   23       20    Male  110515\n",
      "3        Prof          A   40       31    Male  131205\n",
      "4        Prof          B   20       18    Male  104800\n",
      "5        Prof          A   20       20    Male  122400\n",
      "7        Prof          A   18       18    Male  126300\n",
      "10       Prof          B   39       33    Male  128250\n",
      "11       Prof          B   23       23    Male  134778\n",
      "13       Prof          B   35       33    Male  162200\n",
      "14       Prof          B   25       19    Male  153750\n",
      "15       Prof          B   17        3    Male  150480\n",
      "18       Prof          A   19        7    Male  107300\n",
      "19       Prof          A   29       27    Male  150500\n",
      "21       Prof          A   33       30    Male  103106\n",
      "26       Prof          A   38       19    Male  148750\n",
      "27       Prof          A   45       43    Male  155865\n",
      "29       Prof          B   21       20    Male  123683\n",
      "30  AssocProf          B    9        7    Male  107008\n",
      "31       Prof          B   22       21    Male  155750\n",
      "32       Prof          A   27       19    Male  103275\n",
      "33       Prof          B   18       18    Male  120000\n",
      "34  AssocProf          B   12        8    Male  119800\n",
      "35       Prof          B   28       23    Male  126933\n",
      "36       Prof          B   45       45    Male  146856\n",
      "37       Prof          A   20        8    Male  102000\n",
      "39       Prof          B   18       18  Female  129000\n",
      "40       Prof          A   39       36  Female  137000\n",
      "44       Prof          B   23       19  Female  151768\n",
      "45       Prof          B   25       25  Female  140096\n",
      "47  AssocProf          B   11       11  Female  103613\n",
      "48       Prof          B   17       17  Female  111512\n",
      "49       Prof          B   17       18  Female  122960\n",
      "51       Prof          B   20       14  Female  127512\n",
      "52       Prof          A   12        0  Female  105000\n",
      "58       Prof          B   36       26  Female  144651\n",
      "59  AssocProf          B   12       10  Female  103994\n",
      "61  AssocProf          B   13       10  Female  103750\n",
      "62  AssocProf          B   14        7  Female  109650\n",
      "65       Prof          A   36       19  Female  117555\n",
      "69       Prof          A   28        7  Female  116450\n",
      "72       Prof          B   24       15  Female  161101\n",
      "73       Prof          B   18       10  Female  105450\n",
      "74  AssocProf          B   19        6  Female  104542\n",
      "75       Prof          B   17       17  Female  124312\n",
      "76       Prof          A   28       14  Female  109954\n",
      "77       Prof          A   23       15  Female  109646\n",
      "\n",
      "records whose salary is less than 100000:\n",
      "          rank discipline  phd  service     sex  salary\n",
      "1        Prof          A   12        6    Male   93000\n",
      "6   AssocProf          A   20       17    Male   81285\n",
      "8        Prof          A   29       19    Male   94350\n",
      "9        Prof          A   51       51    Male   57800\n",
      "12   AsstProf          B    1        0    Male   88000\n",
      "16   AsstProf          B    8        3    Male   75044\n",
      "17   AsstProf          B    4        0    Male   92000\n",
      "20   AsstProf          B    4        4    Male   92000\n",
      "22   AsstProf          A    4        2    Male   73000\n",
      "23   AsstProf          A    2        0    Male   85000\n",
      "24       Prof          A   30       23    Male   91100\n",
      "25       Prof          B   35       31    Male   99418\n",
      "28   AsstProf          B    7        2    Male   91300\n",
      "38   AsstProf          B    4        3    Male   91000\n",
      "41  AssocProf          A   13        8  Female   74830\n",
      "42   AsstProf          B    4        2  Female   80225\n",
      "43   AsstProf          B    5        0  Female   77000\n",
      "46   AsstProf          B   11        3  Female   74692\n",
      "50   AsstProf          B   10        5  Female   97032\n",
      "53   AsstProf          A    5        3  Female   73500\n",
      "54  AssocProf          A   25       22  Female   62884\n",
      "55   AsstProf          A    2        0  Female   72500\n",
      "56  AssocProf          A   10        8  Female   77500\n",
      "57   AsstProf          A    3        1  Female   72500\n",
      "60   AsstProf          B    3        3  Female   92000\n",
      "63       Prof          A   29       27  Female   91000\n",
      "64  AssocProf          A   26       24  Female   73300\n",
      "66   AsstProf          A    7        6  Female   63100\n",
      "67       Prof          A   17       11  Female   90450\n",
      "68   AsstProf          A    4        2  Female   77500\n",
      "70   AsstProf          A    8        3  Female   78500\n",
      "71  AssocProf          B   12        9  Female   71065\n",
      "\n",
      "records whose discipline is A:\n",
      "          rank discipline  phd  service     sex  salary\n",
      "1        Prof          A   12        6    Male   93000\n",
      "2        Prof          A   23       20    Male  110515\n",
      "3        Prof          A   40       31    Male  131205\n",
      "5        Prof          A   20       20    Male  122400\n",
      "6   AssocProf          A   20       17    Male   81285\n",
      "7        Prof          A   18       18    Male  126300\n",
      "8        Prof          A   29       19    Male   94350\n",
      "9        Prof          A   51       51    Male   57800\n",
      "18       Prof          A   19        7    Male  107300\n",
      "19       Prof          A   29       27    Male  150500\n",
      "21       Prof          A   33       30    Male  103106\n",
      "22   AsstProf          A    4        2    Male   73000\n",
      "23   AsstProf          A    2        0    Male   85000\n",
      "24       Prof          A   30       23    Male   91100\n",
      "26       Prof          A   38       19    Male  148750\n",
      "27       Prof          A   45       43    Male  155865\n",
      "32       Prof          A   27       19    Male  103275\n",
      "37       Prof          A   20        8    Male  102000\n",
      "40       Prof          A   39       36  Female  137000\n",
      "41  AssocProf          A   13        8  Female   74830\n",
      "52       Prof          A   12        0  Female  105000\n",
      "53   AsstProf          A    5        3  Female   73500\n",
      "54  AssocProf          A   25       22  Female   62884\n",
      "55   AsstProf          A    2        0  Female   72500\n",
      "56  AssocProf          A   10        8  Female   77500\n",
      "57   AsstProf          A    3        1  Female   72500\n",
      "63       Prof          A   29       27  Female   91000\n",
      "64  AssocProf          A   26       24  Female   73300\n",
      "65       Prof          A   36       19  Female  117555\n",
      "66   AsstProf          A    7        6  Female   63100\n",
      "67       Prof          A   17       11  Female   90450\n",
      "68   AsstProf          A    4        2  Female   77500\n",
      "69       Prof          A   28        7  Female  116450\n",
      "70   AsstProf          A    8        3  Female   78500\n",
      "76       Prof          A   28       14  Female  109954\n",
      "77       Prof          A   23       15  Female  109646\n",
      "\n",
      "records whose discipline is B:\n",
      "          rank discipline  phd  service     sex  salary\n",
      "0        Prof          B   56       49    Male  186960\n",
      "4        Prof          B   20       18    Male  104800\n",
      "10       Prof          B   39       33    Male  128250\n",
      "11       Prof          B   23       23    Male  134778\n",
      "12   AsstProf          B    1        0    Male   88000\n",
      "13       Prof          B   35       33    Male  162200\n",
      "14       Prof          B   25       19    Male  153750\n",
      "15       Prof          B   17        3    Male  150480\n",
      "16   AsstProf          B    8        3    Male   75044\n",
      "17   AsstProf          B    4        0    Male   92000\n",
      "20   AsstProf          B    4        4    Male   92000\n",
      "25       Prof          B   35       31    Male   99418\n",
      "28   AsstProf          B    7        2    Male   91300\n",
      "29       Prof          B   21       20    Male  123683\n",
      "30  AssocProf          B    9        7    Male  107008\n",
      "31       Prof          B   22       21    Male  155750\n",
      "33       Prof          B   18       18    Male  120000\n",
      "34  AssocProf          B   12        8    Male  119800\n",
      "35       Prof          B   28       23    Male  126933\n",
      "36       Prof          B   45       45    Male  146856\n",
      "38   AsstProf          B    4        3    Male   91000\n",
      "39       Prof          B   18       18  Female  129000\n",
      "42   AsstProf          B    4        2  Female   80225\n",
      "43   AsstProf          B    5        0  Female   77000\n",
      "44       Prof          B   23       19  Female  151768\n",
      "45       Prof          B   25       25  Female  140096\n",
      "46   AsstProf          B   11        3  Female   74692\n",
      "47  AssocProf          B   11       11  Female  103613\n",
      "48       Prof          B   17       17  Female  111512\n",
      "49       Prof          B   17       18  Female  122960\n",
      "50   AsstProf          B   10        5  Female   97032\n",
      "51       Prof          B   20       14  Female  127512\n",
      "58       Prof          B   36       26  Female  144651\n",
      "59  AssocProf          B   12       10  Female  103994\n",
      "60   AsstProf          B    3        3  Female   92000\n",
      "61  AssocProf          B   13       10  Female  103750\n",
      "62  AssocProf          B   14        7  Female  109650\n",
      "71  AssocProf          B   12        9  Female   71065\n",
      "72       Prof          B   24       15  Female  161101\n",
      "73       Prof          B   18       10  Female  105450\n",
      "74  AssocProf          B   19        6  Female  104542\n",
      "75       Prof          B   17       17  Female  124312\n",
      "\n",
      "records whose service is greater than 10:\n",
      "          rank discipline  phd  service     sex  salary\n",
      "0        Prof          B   56       49    Male  186960\n",
      "2        Prof          A   23       20    Male  110515\n",
      "3        Prof          A   40       31    Male  131205\n",
      "4        Prof          B   20       18    Male  104800\n",
      "5        Prof          A   20       20    Male  122400\n",
      "6   AssocProf          A   20       17    Male   81285\n",
      "7        Prof          A   18       18    Male  126300\n",
      "8        Prof          A   29       19    Male   94350\n",
      "9        Prof          A   51       51    Male   57800\n",
      "10       Prof          B   39       33    Male  128250\n",
      "11       Prof          B   23       23    Male  134778\n",
      "13       Prof          B   35       33    Male  162200\n",
      "14       Prof          B   25       19    Male  153750\n",
      "19       Prof          A   29       27    Male  150500\n",
      "21       Prof          A   33       30    Male  103106\n",
      "24       Prof          A   30       23    Male   91100\n",
      "25       Prof          B   35       31    Male   99418\n",
      "26       Prof          A   38       19    Male  148750\n",
      "27       Prof          A   45       43    Male  155865\n",
      "29       Prof          B   21       20    Male  123683\n",
      "31       Prof          B   22       21    Male  155750\n",
      "32       Prof          A   27       19    Male  103275\n",
      "33       Prof          B   18       18    Male  120000\n",
      "35       Prof          B   28       23    Male  126933\n",
      "36       Prof          B   45       45    Male  146856\n",
      "39       Prof          B   18       18  Female  129000\n",
      "40       Prof          A   39       36  Female  137000\n",
      "44       Prof          B   23       19  Female  151768\n",
      "45       Prof          B   25       25  Female  140096\n",
      "47  AssocProf          B   11       11  Female  103613\n",
      "48       Prof          B   17       17  Female  111512\n",
      "49       Prof          B   17       18  Female  122960\n",
      "51       Prof          B   20       14  Female  127512\n",
      "54  AssocProf          A   25       22  Female   62884\n",
      "58       Prof          B   36       26  Female  144651\n",
      "63       Prof          A   29       27  Female   91000\n",
      "64  AssocProf          A   26       24  Female   73300\n",
      "65       Prof          A   36       19  Female  117555\n",
      "67       Prof          A   17       11  Female   90450\n",
      "72       Prof          B   24       15  Female  161101\n",
      "75       Prof          B   17       17  Female  124312\n",
      "76       Prof          A   28       14  Female  109954\n",
      "77       Prof          A   23       15  Female  109646\n",
      "\n",
      "records whose service is less than 5:\n",
      "         rank discipline  phd  service     sex  salary\n",
      "12  AsstProf          B    1        0    Male   88000\n",
      "15      Prof          B   17        3    Male  150480\n",
      "16  AsstProf          B    8        3    Male   75044\n",
      "17  AsstProf          B    4        0    Male   92000\n",
      "20  AsstProf          B    4        4    Male   92000\n",
      "22  AsstProf          A    4        2    Male   73000\n",
      "23  AsstProf          A    2        0    Male   85000\n",
      "28  AsstProf          B    7        2    Male   91300\n",
      "38  AsstProf          B    4        3    Male   91000\n",
      "42  AsstProf          B    4        2  Female   80225\n",
      "43  AsstProf          B    5        0  Female   77000\n",
      "46  AsstProf          B   11        3  Female   74692\n",
      "52      Prof          A   12        0  Female  105000\n",
      "53  AsstProf          A    5        3  Female   73500\n",
      "55  AsstProf          A    2        0  Female   72500\n",
      "57  AsstProf          A    3        1  Female   72500\n",
      "60  AsstProf          B    3        3  Female   92000\n",
      "68  AsstProf          A    4        2  Female   77500\n",
      "70  AsstProf          A    8        3  Female   78500\n",
      "\n",
      "records of phd and salary:\n",
      "     phd  salary\n",
      "0    56  186960\n",
      "1    12   93000\n",
      "2    23  110515\n",
      "3    40  131205\n",
      "4    20  104800\n",
      "..  ...     ...\n",
      "73   18  105450\n",
      "74   19  104542\n",
      "75   17  124312\n",
      "76   28  109954\n",
      "77   23  109646\n",
      "\n",
      "[78 rows x 2 columns]\n",
      "\n",
      "records of rank, sex and salary:\n",
      "          rank     sex  salary\n",
      "0        Prof    Male  186960\n",
      "1        Prof    Male   93000\n",
      "2        Prof    Male  110515\n",
      "3        Prof    Male  131205\n",
      "4        Prof    Male  104800\n",
      "..        ...     ...     ...\n",
      "73       Prof  Female  105450\n",
      "74  AssocProf  Female  104542\n",
      "75       Prof  Female  124312\n",
      "76       Prof  Female  109954\n",
      "77       Prof  Female  109646\n",
      "\n",
      "[78 rows x 3 columns]\n",
      "\n",
      "records without salary:\n",
      "          rank discipline  phd  service     sex\n",
      "0        Prof          B   56       49    Male\n",
      "1        Prof          A   12        6    Male\n",
      "2        Prof          A   23       20    Male\n",
      "3        Prof          A   40       31    Male\n",
      "4        Prof          B   20       18    Male\n",
      "..        ...        ...  ...      ...     ...\n",
      "73       Prof          B   18       10  Female\n",
      "74  AssocProf          B   19        6  Female\n",
      "75       Prof          B   17       17  Female\n",
      "76       Prof          A   28       14  Female\n",
      "77       Prof          A   23       15  Female\n",
      "\n",
      "[78 rows x 5 columns]\n",
      "\n",
      "first 50 records with rank,service and salary:\n",
      "          rank  service  salary\n",
      "0        Prof       49  186960\n",
      "1        Prof        6   93000\n",
      "2        Prof       20  110515\n",
      "3        Prof       31  131205\n",
      "4        Prof       18  104800\n",
      "5        Prof       20  122400\n",
      "6   AssocProf       17   81285\n",
      "7        Prof       18  126300\n",
      "8        Prof       19   94350\n",
      "9        Prof       51   57800\n",
      "10       Prof       33  128250\n",
      "11       Prof       23  134778\n",
      "12   AsstProf        0   88000\n",
      "13       Prof       33  162200\n",
      "14       Prof       19  153750\n",
      "15       Prof        3  150480\n",
      "16   AsstProf        3   75044\n",
      "17   AsstProf        0   92000\n",
      "18       Prof        7  107300\n",
      "19       Prof       27  150500\n",
      "20   AsstProf        4   92000\n",
      "21       Prof       30  103106\n",
      "22   AsstProf        2   73000\n",
      "23   AsstProf        0   85000\n",
      "24       Prof       23   91100\n",
      "25       Prof       31   99418\n",
      "26       Prof       19  148750\n",
      "27       Prof       43  155865\n",
      "28   AsstProf        2   91300\n",
      "29       Prof       20  123683\n",
      "30  AssocProf        7  107008\n",
      "31       Prof       21  155750\n",
      "32       Prof       19  103275\n",
      "33       Prof       18  120000\n",
      "34  AssocProf        8  119800\n",
      "35       Prof       23  126933\n",
      "36       Prof       45  146856\n",
      "37       Prof        8  102000\n",
      "38   AsstProf        3   91000\n",
      "39       Prof       18  129000\n",
      "40       Prof       36  137000\n",
      "41  AssocProf        8   74830\n",
      "42   AsstProf        2   80225\n",
      "43   AsstProf        0   77000\n",
      "44       Prof       19  151768\n",
      "45       Prof       25  140096\n",
      "46   AsstProf        3   74692\n",
      "47  AssocProf       11  103613\n",
      "48       Prof       17  111512\n",
      "49       Prof       18  122960\n",
      "\n",
      "records whose rank is Prof:\n",
      "     rank discipline  phd  service     sex  salary\n",
      "0   Prof          B   56       49    Male  186960\n",
      "1   Prof          A   12        6    Male   93000\n",
      "2   Prof          A   23       20    Male  110515\n",
      "3   Prof          A   40       31    Male  131205\n",
      "4   Prof          B   20       18    Male  104800\n",
      "5   Prof          A   20       20    Male  122400\n",
      "7   Prof          A   18       18    Male  126300\n",
      "8   Prof          A   29       19    Male   94350\n",
      "9   Prof          A   51       51    Male   57800\n",
      "10  Prof          B   39       33    Male  128250\n",
      "11  Prof          B   23       23    Male  134778\n",
      "13  Prof          B   35       33    Male  162200\n",
      "14  Prof          B   25       19    Male  153750\n",
      "15  Prof          B   17        3    Male  150480\n",
      "18  Prof          A   19        7    Male  107300\n",
      "19  Prof          A   29       27    Male  150500\n",
      "21  Prof          A   33       30    Male  103106\n",
      "24  Prof          A   30       23    Male   91100\n",
      "25  Prof          B   35       31    Male   99418\n",
      "26  Prof          A   38       19    Male  148750\n",
      "27  Prof          A   45       43    Male  155865\n",
      "29  Prof          B   21       20    Male  123683\n",
      "31  Prof          B   22       21    Male  155750\n",
      "32  Prof          A   27       19    Male  103275\n",
      "33  Prof          B   18       18    Male  120000\n",
      "35  Prof          B   28       23    Male  126933\n",
      "36  Prof          B   45       45    Male  146856\n",
      "37  Prof          A   20        8    Male  102000\n",
      "39  Prof          B   18       18  Female  129000\n",
      "40  Prof          A   39       36  Female  137000\n",
      "44  Prof          B   23       19  Female  151768\n",
      "45  Prof          B   25       25  Female  140096\n",
      "48  Prof          B   17       17  Female  111512\n",
      "49  Prof          B   17       18  Female  122960\n",
      "51  Prof          B   20       14  Female  127512\n",
      "52  Prof          A   12        0  Female  105000\n",
      "58  Prof          B   36       26  Female  144651\n",
      "63  Prof          A   29       27  Female   91000\n",
      "65  Prof          A   36       19  Female  117555\n",
      "67  Prof          A   17       11  Female   90450\n",
      "69  Prof          A   28        7  Female  116450\n",
      "72  Prof          B   24       15  Female  161101\n",
      "73  Prof          B   18       10  Female  105450\n",
      "75  Prof          B   17       17  Female  124312\n",
      "76  Prof          A   28       14  Female  109954\n",
      "77  Prof          A   23       15  Female  109646\n",
      "\n",
      "records whose rank is AssocProf:\n",
      "          rank discipline  phd  service     sex  salary\n",
      "6   AssocProf          A   20       17    Male   81285\n",
      "30  AssocProf          B    9        7    Male  107008\n",
      "34  AssocProf          B   12        8    Male  119800\n",
      "41  AssocProf          A   13        8  Female   74830\n",
      "47  AssocProf          B   11       11  Female  103613\n",
      "54  AssocProf          A   25       22  Female   62884\n",
      "56  AssocProf          A   10        8  Female   77500\n",
      "59  AssocProf          B   12       10  Female  103994\n",
      "61  AssocProf          B   13       10  Female  103750\n",
      "62  AssocProf          B   14        7  Female  109650\n",
      "64  AssocProf          A   26       24  Female   73300\n",
      "71  AssocProf          B   12        9  Female   71065\n",
      "74  AssocProf          B   19        6  Female  104542\n"
     ]
    }
   ],
   "source": [
    "import pandas as pd\n",
    "\n",
    "df = pd.read_csv(\"Salaries.csv\")\n",
    "print(\"\\nfirst five records of dataset:\\n\",df.head(5))\n",
    "print(\"\\nfirst ten records of dataset:\\n\",df.head(10))\n",
    "print(\"\\nlast five records of dataset:\\n\",df.tail(5))\n",
    "print(\"\\nlast ten records of dataset:\\n\",df.tail(10))\n",
    "print(\"\\ndisplay the columns inside the dataset.:\\n\",df.columns)\n",
    "print(\"\\nshape of data.:\\n\",df.shape)\n",
    "print(\"\\ndescribe the dataset.:\\n\",df.describe)\n",
    "print(\"\\nthe information about the dataset and analyse the data.:\\n\",df.info())\n",
    "print(\"\\ntypes of each columns.:\\n\",df.dtypes)\n",
    "print(\"\\nmaximum,minimum,mean,median,standard deviation value of each column:\\n\",df.describe())\n",
    "print(\"\\nnull values in the dataset:\\n\",df.isnull)\n",
    "print(\"\\ndisplay the sum of null values inside the column:\\n\",df.isnull().sum())\n",
    "print(\"\\nsalary is greater than 50000:\\n\",df[df['salary'] > 50000])\n",
    "print(\"\\nrecords whose salary is less than 20000:\\n\",df[df['salary']<20000])\n",
    "print(\"\\nrecords whose salary is between 20000 to 50000:\\n\",df[(df['salary']>20000)&(df['salary']<50000)])\n",
    "print(\"\\nrecords whose salary is greater than 100000:\\n\",df[df['salary']>100000])\n",
    "print(\"\\nrecords whose salary is less than 100000:\\n\",df[df['salary']<100000])\n",
    "print(\"\\nrecords whose discipline is A:\\n\",df[df['discipline']=='A'])\n",
    "print(\"\\nrecords whose discipline is B:\\n\",df[df['discipline']=='B'])\n",
    "print(\"\\nrecords whose service is greater than 10:\\n\",df[df['service']>10])\n",
    "print(\"\\nrecords whose service is less than 5:\\n\",df[df['service']<5])\n",
    "print(\"\\nrecords of phd and salary:\\n\",df[['phd','salary']])\n",
    "print(\"\\nrecords of rank, sex and salary:\\n\",df[['rank','sex','salary']])\n",
    "print(\"\\nrecords without salary:\\n\",df.drop('salary',axis=1))\n",
    "print(\"\\nfirst 50 records with rank,service and salary:\\n\",df[['rank','service','salary']].head(50))\n",
    "print(\"\\nrecords whose rank is Prof:\\n\",df[df['rank'] == 'Prof'])\n",
    "print(\"\\nrecords whose rank is AssocProf:\\n\",df[df['rank'] == 'AssocProf'])\n",
    "\n"
   ]
  },
  {
   "cell_type": "code",
   "execution_count": null,
   "id": "5c685119-4061-4224-a004-8e42ea1e44f6",
   "metadata": {},
   "outputs": [],
   "source": []
  },
  {
   "cell_type": "code",
   "execution_count": null,
   "id": "9c57c80f-b364-447f-99fa-2a02ac2d35da",
   "metadata": {},
   "outputs": [],
   "source": []
  },
  {
   "cell_type": "code",
   "execution_count": null,
   "id": "5a9e564e-990b-48e3-96d2-a06dfb8cd984",
   "metadata": {},
   "outputs": [],
   "source": []
  },
  {
   "cell_type": "code",
   "execution_count": null,
   "id": "bad5f10d-4671-489c-a55e-e9b98844a5d8",
   "metadata": {},
   "outputs": [],
   "source": []
  },
  {
   "cell_type": "code",
   "execution_count": null,
   "id": "fd41d1c0-ccdc-4f56-8eb7-2015679bc7b2",
   "metadata": {},
   "outputs": [],
   "source": []
  },
  {
   "cell_type": "code",
   "execution_count": null,
   "id": "7c3a4cb4-3985-41a6-b7bb-c787a3baf19a",
   "metadata": {},
   "outputs": [],
   "source": []
  }
 ],
 "metadata": {
  "kernelspec": {
   "display_name": "Python 3 (ipykernel)",
   "language": "python",
   "name": "python3"
  },
  "language_info": {
   "codemirror_mode": {
    "name": "ipython",
    "version": 3
   },
   "file_extension": ".py",
   "mimetype": "text/x-python",
   "name": "python",
   "nbconvert_exporter": "python",
   "pygments_lexer": "ipython3",
   "version": "3.8.3"
  }
 },
 "nbformat": 4,
 "nbformat_minor": 5
}
